{
 "cells": [
  {
   "cell_type": "code",
   "execution_count": null,
   "id": "df1e3973-86c5-4d07-b44a-f934c5fbb1b2",
   "metadata": {},
   "outputs": [],
   "source": [
    "import tensorflow as tf\n",
    "\n",
    "gpus = tf.config.experimental.list_physical_devices('GPU')\n",
    "if gpus:\n",
    "    try:\n",
    "        for gpu in gpus:\n",
    "            tf.config.experimental.set_memory_growth(gpu, True)\n",
    "    except RuntimeError as e:\n",
    "        print(e)\n",
    "\n",
    "from trainer.predict import inference_evaluation\n",
    "%matplotlib inline"
   ]
  },
  {
   "cell_type": "markdown",
   "id": "f9aeda14-bf24-4d2a-9a80-88b329f1961c",
   "metadata": {},
   "source": [
    "# Models evaluation "
   ]
  },
  {
   "cell_type": "code",
   "execution_count": null,
   "id": "ce370d9d-4e03-44fe-bc62-a6b51dfb2cb0",
   "metadata": {},
   "outputs": [],
   "source": [
    "# Evaluation parameters\n",
    "test_dir = '/path/to/test_data/'                  # Path to your test data directory\n",
    "model_paths = [\n",
    "    '/path/to/models/bc_unet3d.keras',\n",
    "    '/path/to/models/bc_attentionunet3d.keras',\n",
    "    '/path/to/models/bc_augmented_unet3d.keras',\n",
    "    '/path/to/models/bc_augmented_attentionunet3d.keras',\n",
    "]                                                 # Paths to the trained model files\n",
    "model_names = [\n",
    "    'UNet3D',\n",
    "    'AttentionUNet3D',\n",
    "    'UNet3D + Augmentation',\n",
    "    'AttentionUNet3D + Augmentation',\n",
    "]                                                 # Names for plotting and identification\n",
    "violin_plot_filename = 'bc_dataset_inference'     # Filename for exporting results plot\n",
    "patch_shape = (64, 64, 64)                        # Patch size used during training\n",
    "patch_step = 64                                   # Step size between patches; can be adjusted for overlapping patches\n",
    "batch_size = 4                                    # Batch size for velautiong"
   ]
  },
  {
   "cell_type": "code",
   "execution_count": null,
   "id": "19e897f9-0d95-4db3-a04e-8231fe60ea47",
   "metadata": {},
   "outputs": [],
   "source": [
    "inference_evaluation(\n",
    "    test_dir=test_dir,\n",
    "    model_paths = model_paths,\n",
    "    model_names = model_names,\n",
    "    violin_plot_filename = violin_plot_filename,\n",
    "    dataset_name = \"bc\",\n",
    "    patch_shape = patch_shape,\n",
    "    patch_step = patch_step,\n",
    "    batch_size = batch_size\n",
    ")"
   ]
  },
  {
   "cell_type": "code",
   "execution_count": null,
   "id": "0e06873e-7592-4cea-9b17-d6cb08dda41d",
   "metadata": {},
   "outputs": [],
   "source": []
  }
 ],
 "metadata": {
  "kernelspec": {
   "display_name": "Python 3 (ipykernel)",
   "language": "python",
   "name": "python3"
  },
  "language_info": {
   "codemirror_mode": {
    "name": "ipython",
    "version": 3
   },
   "file_extension": ".py",
   "mimetype": "text/x-python",
   "name": "python",
   "nbconvert_exporter": "python",
   "pygments_lexer": "ipython3",
   "version": "3.10.15"
  }
 },
 "nbformat": 4,
 "nbformat_minor": 5
}
