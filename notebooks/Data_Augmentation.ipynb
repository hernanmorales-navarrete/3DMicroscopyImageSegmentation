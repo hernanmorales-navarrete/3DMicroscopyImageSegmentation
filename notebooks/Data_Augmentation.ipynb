{
 "cells": [
  {
   "cell_type": "code",
   "execution_count": null,
   "id": "c39ac49c-66ca-419d-948f-2231bd0e57ad",
   "metadata": {},
   "outputs": [],
   "source": [
    "from utils.generate_images import simulate_images"
   ]
  },
  {
   "cell_type": "markdown",
   "id": "9f6fc48d-66fe-4961-9ca3-1d1bb29ea7db",
   "metadata": {},
   "source": [
    "# Input Parameters"
   ]
  },
  {
   "cell_type": "code",
   "execution_count": null,
   "id": "9618fddd-f00c-4610-be9a-69a5ef7e6ebb",
   "metadata": {},
   "outputs": [],
   "source": [
    "# Basic parameters\n",
    "scr_dir  = '/path/to/dataset/training_data/'  # Path to your training data\n",
    "psf_path = '/path/to/PSF.tif'                 # Path to your point spread function (PSF) file\n",
    "out_dir  = '/path/to/training_data_augm/'     # Output directory for augmented data\n",
    "snr_targets = [15, 10, 5, 4, 3, 2, 1]         # Desired signal-to-noise ratiossdezx"
   ]
  },
  {
   "cell_type": "code",
   "execution_count": null,
   "id": "9f1e8a41-7b20-4b2a-a83a-785d688fea9b",
   "metadata": {},
   "outputs": [],
   "source": [
    "# Advanced parameters\n",
    "background_level = 0.1          # Percentage of intensity added as background (0 to 1)\n",
    "local_variation_scale = 5       # Scale for local intensity variations (uneven staining)\n",
    "z_decay_rate = 0.9975           # Z-stack dependent intensity decay (axial intensity variation)\n",
    "std_dev = 10.00                 # Initial guess for Gaussian noise standard deviation"
   ]
  },
  {
   "cell_type": "markdown",
   "id": "b0ef87e0-4a9b-4603-99f4-7bc0539e7c45",
   "metadata": {},
   "source": [
    "# Create simulated images"
   ]
  },
  {
   "cell_type": "code",
   "execution_count": null,
   "id": "4437b9d5-0d49-4291-91e6-87ebdc1e7de1",
   "metadata": {},
   "outputs": [],
   "source": [
    "simulate_images(\n",
    "    scr_dir = scr_dir,\n",
    "    psf_path = psf_path, \n",
    "    out_dir = out_dir,\n",
    "    snr_targets = snr_targets,\n",
    "    background_level = background_level,\n",
    "    local_variation_scale = local_variation_scale,\n",
    "    z_decay_rate = z_decay_rate,\n",
    "    std_dev = std_dev\n",
    ")"
   ]
  },
  {
   "cell_type": "code",
   "execution_count": null,
   "id": "4d384e4a-e1a1-459a-ad94-3ed649f61e20",
   "metadata": {},
   "outputs": [],
   "source": [
    "print(\"All calculations are successfully finished\")"
   ]
  }
 ],
 "metadata": {
  "kernelspec": {
   "display_name": "Python 3 (ipykernel)",
   "language": "python",
   "name": "python3"
  },
  "language_info": {
   "codemirror_mode": {
    "name": "ipython",
    "version": 3
   },
   "file_extension": ".py",
   "mimetype": "text/x-python",
   "name": "python",
   "nbconvert_exporter": "python",
   "pygments_lexer": "ipython3",
   "version": "3.10.15"
  }
 },
 "nbformat": 4,
 "nbformat_minor": 5
}
