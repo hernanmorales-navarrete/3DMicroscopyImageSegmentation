{
 "cells": [
  {
   "cell_type": "code",
   "execution_count": null,
   "id": "df1e3973-86c5-4d07-b44a-f934c5fbb1b2",
   "metadata": {},
   "outputs": [],
   "source": [
    "import tensorflow as tf\n",
    "\n",
    "gpus = tf.config.experimental.list_physical_devices('GPU')\n",
    "if gpus:\n",
    "    try:\n",
    "        for gpu in gpus:\n",
    "            tf.config.experimental.set_memory_growth(gpu, True)\n",
    "    except RuntimeError as e:\n",
    "        print(e)\n",
    "\n",
    "import os\n",
    "from trainer.predict import inference"
   ]
  },
  {
   "cell_type": "markdown",
   "id": "f9aeda14-bf24-4d2a-9a80-88b329f1961c",
   "metadata": {},
   "source": [
    "# Inference"
   ]
  },
  {
   "cell_type": "code",
   "execution_count": null,
   "id": "19e897f9-0d95-4db3-a04e-8231fe60ea47",
   "metadata": {},
   "outputs": [],
   "source": [
    "# Evaluation parameters\n",
    "input_dir = '/path/to/newimages/'                 # Path to the folder containing new images to be evaluated\n",
    "model_path = '/path/to/models/bestmodel.keras'    # Path to the best-performing model file\n",
    "out_dir = '/path/to/predicted_masks/'             # Path where the predicted mask files will be saved\n",
    "model_name = 'UNet3D'                             # Name for exporting and identification\n",
    "patch_shape = (64, 64, 64)                        # Patch size used during training\n",
    "patch_step = 64                                   # Step size between patches; can be adjusted for overlapping patches\n",
    "batch_size = 4                                    # Batch size for evaluating"
   ]
  },
  {
   "cell_type": "code",
   "execution_count": null,
   "id": "b64524a6-a28e-474b-8fc8-613bd57f4ade",
   "metadata": {},
   "outputs": [],
   "source": [
    "if not os.path.exists(out_dir):\n",
    "    os.mkdir(out_dir)\n",
    "\n",
    "inference(\n",
    "    input_dir=input_dir,\n",
    "    model_path = model_path,\n",
    "    model_name = model_name,\n",
    "    patch_shape = patch_shape,\n",
    "    patch_step = patch_step,\n",
    "    batch_size = batch_size,\n",
    "    out_dir = out_dir\n",
    ")"
   ]
  },
  {
   "cell_type": "code",
   "execution_count": null,
   "id": "f06a47fc-ada8-49ad-ba27-59041c615e23",
   "metadata": {},
   "outputs": [],
   "source": []
  },
  {
   "cell_type": "code",
   "execution_count": null,
   "id": "e2736525-b5c7-4d79-8dc8-0c4895b5bc48",
   "metadata": {},
   "outputs": [],
   "source": []
  }
 ],
 "metadata": {
  "kernelspec": {
   "display_name": "Python 3 (ipykernel)",
   "language": "python",
   "name": "python3"
  },
  "language_info": {
   "codemirror_mode": {
    "name": "ipython",
    "version": 3
   },
   "file_extension": ".py",
   "mimetype": "text/x-python",
   "name": "python",
   "nbconvert_exporter": "python",
   "pygments_lexer": "ipython3",
   "version": "3.10.15"
  }
 },
 "nbformat": 4,
 "nbformat_minor": 5
}
