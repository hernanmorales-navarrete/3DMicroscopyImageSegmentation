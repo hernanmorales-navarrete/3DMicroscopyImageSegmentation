{
 "cells": [
  {
   "cell_type": "code",
   "execution_count": 1,
   "id": "df1e3973-86c5-4d07-b44a-f934c5fbb1b2",
   "metadata": {},
   "outputs": [
    {
     "name": "stderr",
     "output_type": "stream",
     "text": [
      "2025-04-14 02:21:48.262808: E external/local_xla/xla/stream_executor/cuda/cuda_fft.cc:467] Unable to register cuFFT factory: Attempting to register factory for plugin cuFFT when one has already been registered\n",
      "WARNING: All log messages before absl::InitializeLog() is called are written to STDERR\n",
      "E0000 00:00:1744597308.280744 3555063 cuda_dnn.cc:8579] Unable to register cuDNN factory: Attempting to register factory for plugin cuDNN when one has already been registered\n",
      "E0000 00:00:1744597308.286223 3555063 cuda_blas.cc:1407] Unable to register cuBLAS factory: Attempting to register factory for plugin cuBLAS when one has already been registered\n",
      "W0000 00:00:1744597308.299250 3555063 computation_placer.cc:177] computation placer already registered. Please check linkage and avoid linking the same target more than once.\n",
      "W0000 00:00:1744597308.299267 3555063 computation_placer.cc:177] computation placer already registered. Please check linkage and avoid linking the same target more than once.\n",
      "W0000 00:00:1744597308.299269 3555063 computation_placer.cc:177] computation placer already registered. Please check linkage and avoid linking the same target more than once.\n",
      "W0000 00:00:1744597308.299271 3555063 computation_placer.cc:177] computation placer already registered. Please check linkage and avoid linking the same target more than once.\n",
      "2025-04-14 02:21:48.303660: I tensorflow/core/platform/cpu_feature_guard.cc:210] This TensorFlow binary is optimized to use available CPU instructions in performance-critical operations.\n",
      "To enable the following instructions: AVX2 FMA, in other operations, rebuild TensorFlow with the appropriate compiler flags.\n",
      "\u001b[32m2025-04-14 02:21:51.324\u001b[0m | \u001b[1mINFO    \u001b[0m | \u001b[36msrc.config\u001b[0m:\u001b[36m<module>\u001b[0m:\u001b[36m11\u001b[0m - \u001b[1mPROJ_ROOT path is: /root/Documents/3DMicroscopyImageSegmentation\u001b[0m\n"
     ]
    }
   ],
   "source": [
    "import tensorflow as tf\n",
    "\n",
    "gpus = tf.config.experimental.list_physical_devices('GPU')\n",
    "if gpus:\n",
    "    try:\n",
    "        for gpu in gpus:\n",
    "            tf.config.experimental.set_memory_growth(gpu, True)\n",
    "    except RuntimeError as e:\n",
    "        print(e)\n",
    "\n",
    "import os\n",
    "from src.trainer.predict import inference"
   ]
  },
  {
   "cell_type": "markdown",
   "id": "f9aeda14-bf24-4d2a-9a80-88b329f1961c",
   "metadata": {},
   "source": [
    "# Inference"
   ]
  },
  {
   "cell_type": "code",
   "execution_count": null,
   "id": "19e897f9-0d95-4db3-a04e-8231fe60ea47",
   "metadata": {},
   "outputs": [],
   "source": [
    "# Evaluation parameters\n",
    "input_dir = '/path/to/newimages/'                 # Path to the folder containing new images to be evaluated\n",
    "model_path = '/path/to/models/bestmodel.keras'    # Path to the best-performing model file\n",
    "out_dir = '/path/to/predicted_masks/'             # Path where the predicted mask files will be saved\n",
    "model_name = 'UNet3D'                             # Name for exporting and identification\n",
    "patch_shape = (64, 64, 64)                        # Patch size used during training\n",
    "patch_step = 64                                   # Step size between patches; can be adjusted for overlapping patches\n",
    "batch_size = 4                                    # Batch size for evaluating"
   ]
  },
  {
   "cell_type": "code",
   "execution_count": null,
   "id": "b64524a6-a28e-474b-8fc8-613bd57f4ade",
   "metadata": {},
   "outputs": [],
   "source": [
    "if not os.path.exists(out_dir):\n",
    "    os.mkdir(out_dir)\n",
    "\n",
    "inference(\n",
    "    input_dir=input_dir,\n",
    "    model_path = model_path,\n",
    "    model_name = model_name,\n",
    "    patch_shape = patch_shape,\n",
    "    patch_step = patch_step,\n",
    "    batch_size = batch_size,\n",
    "    out_dir = out_dir\n",
    ")"
   ]
  },
  {
   "cell_type": "code",
   "execution_count": null,
   "id": "f06a47fc-ada8-49ad-ba27-59041c615e23",
   "metadata": {},
   "outputs": [],
   "source": []
  },
  {
   "cell_type": "code",
   "execution_count": null,
   "id": "e2736525-b5c7-4d79-8dc8-0c4895b5bc48",
   "metadata": {},
   "outputs": [],
   "source": []
  }
 ],
 "metadata": {
  "kernelspec": {
   "display_name": "Python 3 (ipykernel)",
   "language": "python",
   "name": "python3"
  },
  "language_info": {
   "codemirror_mode": {
    "name": "ipython",
    "version": 3
   },
   "file_extension": ".py",
   "mimetype": "text/x-python",
   "name": "python",
   "nbconvert_exporter": "python",
   "pygments_lexer": "ipython3",
   "version": "3.10.16"
  }
 },
 "nbformat": 4,
 "nbformat_minor": 5
}
