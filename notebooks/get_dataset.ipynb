{
 "cells": [
  {
   "cell_type": "code",
   "execution_count": 1,
   "id": "1637ac6a-4ceb-460d-a116-88b67039401e",
   "metadata": {},
   "outputs": [
    {
     "name": "stderr",
     "output_type": "stream",
     "text": [
      "Downloading...\n",
      "From (original): https://drive.google.com/uc?id=1ukn-0pvNpyEkbmW6VWypuZ1NrIg3pNjH\n",
      "From (redirected): https://drive.google.com/uc?id=1ukn-0pvNpyEkbmW6VWypuZ1NrIg3pNjH&confirm=t&uuid=232504b9-2df7-4845-a886-93a3694ea0c3\n",
      "To: /root/Documents/3DMicroscopyImageSegmentation/data/bc.zip\n",
      "100%|█████████████████████████████████████████████████████████████████████████████████████████████| 4.99G/4.99G [02:18<00:00, 36.1MB/s]\n",
      "Downloading...\n",
      "From (original): https://drive.google.com/uc?id=14CZ4XyWWtXXTY2DgaI0Cc7b4uEi1FWNA\n",
      "From (redirected): https://drive.google.com/uc?id=14CZ4XyWWtXXTY2DgaI0Cc7b4uEi1FWNA&confirm=t&uuid=3f77d9b8-cb37-4088-9f71-044d2ddda7f3\n",
      "To: /root/Documents/3DMicroscopyImageSegmentation/data/sinusoid.zip\n",
      "100%|█████████████████████████████████████████████████████████████████████████████████████████████| 5.39G/5.39G [02:35<00:00, 34.7MB/s]\n"
     ]
    },
    {
     "data": {
      "text/plain": [
       "'data/sinusoid.zip'"
      ]
     },
     "execution_count": 1,
     "metadata": {},
     "output_type": "execute_result"
    }
   ],
   "source": [
    "import gdown\n",
    "\n",
    "url = 'https://drive.google.com/uc?id=1ukn-0pvNpyEkbmW6VWypuZ1NrIg3pNjH'\n",
    "gdown.download(url, \"data/bc.zip\")\n",
    "\n",
    "url = \"https://drive.google.com/uc?id=14CZ4XyWWtXXTY2DgaI0Cc7b4uEi1FWNA\"\n",
    "gdown.download(url, \"data/sinusoid.zip\")"
   ]
  },
  {
   "cell_type": "code",
   "execution_count": 2,
   "id": "3db683d0-c57d-4cb3-bbca-f9606ca3cca6",
   "metadata": {},
   "outputs": [],
   "source": [
    "import zipfile\n",
    "\n",
    "with zipfile.ZipFile(\"data/bc.zip\", \"r\") as zip_ref:\n",
    "    zip_ref.extractall(\"data/BC\")\n",
    "\n",
    "with zipfile.ZipFile(\"data/sinusoid.zip\", \"r\") as zip_ref:\n",
    "    zip_ref.extractall(\"data/Sinusoid\")"
   ]
  },
  {
   "cell_type": "code",
   "execution_count": null,
   "id": "d60d7375-c59c-4a70-bc14-c5576388beaf",
   "metadata": {},
   "outputs": [],
   "source": []
  }
 ],
 "metadata": {
  "kernelspec": {
   "display_name": "Python 3 (ipykernel)",
   "language": "python",
   "name": "python3"
  },
  "language_info": {
   "codemirror_mode": {
    "name": "ipython",
    "version": 3
   },
   "file_extension": ".py",
   "mimetype": "text/x-python",
   "name": "python",
   "nbconvert_exporter": "python",
   "pygments_lexer": "ipython3",
   "version": "3.9.19"
  }
 },
 "nbformat": 4,
 "nbformat_minor": 5
}
