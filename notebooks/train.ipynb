{
 "cells": [
  {
   "cell_type": "code",
   "execution_count": null,
   "id": "15971a2a-605c-47de-8037-52141e545d48",
   "metadata": {},
   "outputs": [],
   "source": [
    "import tensorflow as tf\n",
    "gpus = tf.config.experimental.list_physical_devices('GPU')\n",
    "if gpus:\n",
    "    try:\n",
    "        for gpu in gpus:\n",
    "            tf.config.experimental.set_memory_growth(gpu, True)\n",
    "    except RuntimeError as e:\n",
    "        print(e)\n",
    "strategy = tf.distribute.MirroredStrategy()"
   ]
  },
  {
   "cell_type": "code",
   "execution_count": null,
   "id": "c39ac49c-66ca-419d-948f-2231bd0e57ad",
   "metadata": {},
   "outputs": [],
   "source": [
    "from src.data_loader.create_dataset import create_tf_datasets\n",
    "\n",
    "from src.models.attention_unet import AttentionUNet3D\n",
    "from src.models.unet import UNet3D\n",
    "\n",
    "from src.trainer.train import train_model"
   ]
  },
  {
   "cell_type": "markdown",
   "id": "9f6fc48d-66fe-4961-9ca3-1d1bb29ea7db",
   "metadata": {},
   "source": [
    "# Input Parameters"
   ]
  },
  {
   "cell_type": "code",
   "execution_count": null,
   "id": "9618fddd-f00c-4610-be9a-69a5ef7e6ebb",
   "metadata": {},
   "outputs": [],
   "source": [
    "# Dataset parameters\n",
    "train_dir = '/path/to/training_data/'                          # Path to original training data\n",
    "train_dir_augm = '/path/to/training_data_augm/'                # Path to augmented training data\n",
    "percent_val = 0.2                                              # Fraction of patches used for validation\n",
    "patch_shape = (64, 64, 64)                                     # Size of the patches\n",
    "patch_step = 64                                                # Step size between patches\n",
    "random_state = 42                                              # Random seed for reproducibility"
   ]
  },
  {
   "cell_type": "code",
   "execution_count": null,
   "id": "2930fa65-2b66-44c8-a6c0-213135cac1af",
   "metadata": {},
   "outputs": [],
   "source": [
    "# Training parameters\n",
    "models = ['UNet3D', 'AttentionUNet3D']        # Models to be trained\n",
    "optimizer = 'adam'                            # Optimization algorithm\n",
    "loss = 'binary_crossentropy'                  # Loss function\n",
    "metrics = ['accuracy', 'precision', 'recall'] # Evaluation metrics\n",
    "epochs = 50                                   # Maximum number of epochs\n",
    "batch_size = 4                                # Batch size for training\n",
    "model_names = ['bc_unet3d', 'bc_attentionunet3d'] # Names for saving models\n",
    "out_dir = '/content/save_models/'                  # Output directory for models"
   ]
  },
  {
   "cell_type": "markdown",
   "id": "b0ef87e0-4a9b-4603-99f4-7bc0539e7c45",
   "metadata": {},
   "source": [
    "# Create datasets and train models for original data"
   ]
  },
  {
   "cell_type": "code",
   "execution_count": null,
   "id": "4437b9d5-0d49-4291-91e6-87ebdc1e7de1",
   "metadata": {},
   "outputs": [],
   "source": [
    "# Create dataset for the original data\n",
    "train_dataset, val_dataset = create_tf_datasets(\n",
    "    train_dir,\n",
    "    percent_val=percent_val,\n",
    "    patch_shape=patch_shape,\n",
    "    patch_step=patch_step,\n",
    "    random_state=random_state\n",
    ")"
   ]
  },
  {
   "cell_type": "code",
   "execution_count": null,
   "id": "acb17432-c9aa-48a6-8089-91b2abbd2d10",
   "metadata": {},
   "outputs": [],
   "source": [
    "# Train models for the original data\n",
    "for modelId, model_name in zip(models, model_names):\n",
    "    with strategy.scope():\n",
    "        model = None  # Initialize model to None to handle undefined cases\n",
    "        if modelId == 'UNet3D':\n",
    "            model = UNet3D().build_model()\n",
    "        elif modelId == 'AttentionUNet3D':\n",
    "            model = AttentionUNet3D().build_model()\n",
    "        else:\n",
    "            print(f\"Error: The model '{modelId}' is not defined. Please check the model name.\")\n",
    "    \n",
    "        print(f\"Training model '{modelId}' and saving as '{model_name}'...\")   \n",
    "        \n",
    "        train_model(\n",
    "            train_dataset = train_dataset, \n",
    "            val_dataset = val_dataset, \n",
    "            model = model, \n",
    "            optimizer = optimizer, \n",
    "            loss = loss,\n",
    "            metrics = metrics,\n",
    "            epochs = epochs,\n",
    "            batch_size = batch_size, \n",
    "            filename=model_name+\".keras\",\n",
    "            model_name=model_name\n",
    "        )"
   ]
  },
  {
   "cell_type": "markdown",
   "id": "dcf2389f-a63a-405d-a0e6-1d26d80fb400",
   "metadata": {},
   "source": [
    "# Create datasets and train models for augmented data"
   ]
  },
  {
   "cell_type": "code",
   "execution_count": null,
   "id": "3e136d59-47df-4bcb-bae5-4a7333ffa082",
   "metadata": {},
   "outputs": [],
   "source": [
    "# Create dataset for the augmented data\n",
    "train_dataset, val_dataset = create_tf_datasets(\n",
    "    train_dir_augm,\n",
    "    percent_val=percent_val,\n",
    "    patch_shape=patch_shape,\n",
    "    patch_step=patch_step,\n",
    "    random_state=random_state\n",
    ")"
   ]
  },
  {
   "cell_type": "code",
   "execution_count": null,
   "id": "a7db4fba-df59-40ea-b91f-d5848d270de1",
   "metadata": {},
   "outputs": [],
   "source": [
    "# Train models for the augmented data\n",
    "for modelId, model_name in zip(models, model_names):\n",
    "    with strategy.scope():\n",
    "        model = None  # Initialize model to None to handle undefined cases\n",
    "        if modelId == 'UNet3D':\n",
    "            model = UNet3D().build_model()\n",
    "        elif modelId == 'AttentionUNet3D':\n",
    "            model = AttentionUNet3D().build_model()\n",
    "        else:\n",
    "            print(f\"Error: The model '{modelId}' is not defined. Please check the model name.\")\n",
    "    \n",
    "        print(f\"Training model '{modelId}' and saving as '{model_name}'...\")   \n",
    "        \n",
    "        train_model(\n",
    "            train_dataset = train_dataset, \n",
    "            val_dataset = val_dataset, \n",
    "            model = model, \n",
    "            optimizer = optimizer, \n",
    "            loss = loss,\n",
    "            metrics = metrics,\n",
    "            epochs = epochs,\n",
    "            batch_size = batch_size, \n",
    "            filename=model_name+\".keras\",\n",
    "            model_name=model_name\n",
    "        )"
   ]
  },
  {
   "cell_type": "code",
   "execution_count": null,
   "id": "4d384e4a-e1a1-459a-ad94-3ed649f61e20",
   "metadata": {},
   "outputs": [],
   "source": [
    "print(\"All calculations are successfully finished\")"
   ]
  }
 ],
 "metadata": {
  "kernelspec": {
   "display_name": "Python 3 (ipykernel)",
   "language": "python",
   "name": "python3"
  },
  "language_info": {
   "codemirror_mode": {
    "name": "ipython",
    "version": 3
   },
   "file_extension": ".py",
   "mimetype": "text/x-python",
   "name": "python",
   "nbconvert_exporter": "python",
   "pygments_lexer": "ipython3",
   "version": "3.10.16"
  }
 },
 "nbformat": 4,
 "nbformat_minor": 5
}
