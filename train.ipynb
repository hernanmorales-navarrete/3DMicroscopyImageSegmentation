{
 "cells": [
  {
   "cell_type": "code",
   "execution_count": null,
   "id": "15971a2a-605c-47de-8037-52141e545d48",
   "metadata": {},
   "outputs": [],
   "source": [
    "import tensorflow as tf\n",
    "\n",
    "gpus = tf.config.experimental.list_physical_devices('GPU')\n",
    "if gpus:\n",
    "    try:\n",
    "        for gpu in gpus:\n",
    "            tf.config.experimental.set_memory_growth(gpu, True)\n",
    "    except RuntimeError as e:\n",
    "        print(e)\n",
    "strategy = tf.distribute.MirroredStrategy()"
   ]
  },
  {
   "cell_type": "code",
   "execution_count": null,
   "id": "c39ac49c-66ca-419d-948f-2231bd0e57ad",
   "metadata": {},
   "outputs": [],
   "source": [
    "from data_loader.create_dataset import create_tf_datasets\n",
    "\n",
    "from models.attention_unet import AttentionUNet3D\n",
    "from models.unet import UNet3D\n",
    "\n",
    "from trainer.train import train_model\n",
    "\n",
    "import numpy as np\n"
   ]
  },
  {
   "cell_type": "markdown",
   "id": "9f6fc48d-66fe-4961-9ca3-1d1bb29ea7db",
   "metadata": {},
   "source": [
    "# BC Dataset"
   ]
  },
  {
   "cell_type": "code",
   "execution_count": null,
   "id": "3e136d59-47df-4bcb-bae5-4a7333ffa082",
   "metadata": {},
   "outputs": [],
   "source": [
    "train_dir = 'data/BC/training_data/'\n",
    "\n",
    "train_dataset, val_dataset = create_tf_datasets(\n",
    "    train_dir, \n",
    "    percent_val=0.2, \n",
    "    patch_shape=(64, 64, 64), \n",
    "    patch_step=64,\n",
    "    random_state = 42\n",
    ")"
   ]
  },
  {
   "cell_type": "code",
   "execution_count": null,
   "id": "c7d5ac8b-3e51-4f22-bc4a-7937cdd353a0",
   "metadata": {},
   "outputs": [],
   "source": [
    "with strategy.scope():\n",
    "    train_model(\n",
    "        train_dataset = train_dataset, \n",
    "        val_dataset = val_dataset, \n",
    "        model = UNet3D().build_model(), \n",
    "        optimizer = 'adam', \n",
    "        loss = 'binary_crossentropy',\n",
    "        metrics=['accuracy', 'precision', 'recall'],\n",
    "        epochs = 50,\n",
    "        batch_size = 16, \n",
    "        filename=\"bc_unet3d.keras\",\n",
    "        model_name=\"bc_unet3d\"\n",
    "    )"
   ]
  },
  {
   "cell_type": "code",
   "execution_count": null,
   "id": "a7db4fba-df59-40ea-b91f-d5848d270de1",
   "metadata": {},
   "outputs": [],
   "source": [
    "with strategy.scope():\n",
    "    train_model(\n",
    "        train_dataset = train_dataset, \n",
    "        val_dataset = val_dataset, \n",
    "        model = AttentionUNet3D().build_model(), \n",
    "        optimizer = 'adam',\n",
    "        loss = 'binary_crossentropy',\n",
    "        metrics=['accuracy', 'precision', 'recall'],\n",
    "        epochs = 50,\n",
    "        batch_size = 16,\n",
    "        filename=\"bc_attentionunet3d.keras\",\n",
    "        model_name=\"bc_attentionunet3d\"\n",
    "    )"
   ]
  },
  {
   "cell_type": "markdown",
   "id": "f5fc65d8-44a5-446a-b1be-ab4f561ef41e",
   "metadata": {},
   "source": [
    "# BC Augmented Dataset"
   ]
  },
  {
   "cell_type": "code",
   "execution_count": null,
   "id": "a0ddd408-9c6d-4110-a32e-e2fcd50e75b5",
   "metadata": {},
   "outputs": [],
   "source": [
    "train_dir = 'data/BC/training_data_augm/'\n",
    "\n",
    "train_dataset, val_dataset = create_tf_datasets(\n",
    "    train_dir, \n",
    "    percent_val=0.2, \n",
    "    patch_shape=(64, 64, 64), \n",
    "    patch_step=64,\n",
    "    random_state = 42\n",
    ")"
   ]
  },
  {
   "cell_type": "code",
   "execution_count": null,
   "id": "ef5a7532-4218-4f50-a66c-5af3469ef732",
   "metadata": {},
   "outputs": [],
   "source": [
    "with strategy.scope():\n",
    "    train_model(\n",
    "        train_dataset = train_dataset, \n",
    "        val_dataset = val_dataset, \n",
    "        model = UNet3D().build_model(), \n",
    "        optimizer = 'adam', \n",
    "        loss = 'binary_crossentropy',\n",
    "        metrics=['accuracy', 'precision', 'recall'],\n",
    "        epochs = 50,\n",
    "        batch_size = 16, \n",
    "        filename=\"bc_augmented_unet3d.keras\",\n",
    "        model_name=\"bc_augmented_unet3d\"\n",
    "    )"
   ]
  },
  {
   "cell_type": "code",
   "execution_count": null,
   "id": "8a56dd69-6fe9-46f9-8ddc-2e41e3632370",
   "metadata": {},
   "outputs": [],
   "source": [
    "with strategy.scope():\n",
    "    train_model(\n",
    "        train_dataset = train_dataset, \n",
    "        val_dataset = val_dataset, \n",
    "        model = AttentionUNet3D().build_model(), \n",
    "        optimizer = 'adam',\n",
    "        loss = 'binary_crossentropy',\n",
    "        metrics=['accuracy', 'precision', 'recall'],\n",
    "        epochs = 50,\n",
    "        batch_size = 16,\n",
    "        filename=\"bc_augmented_attentionunet3d.keras\",\n",
    "        model_name=\"bc_augmented_attentionunet3d\"\n",
    "    )"
   ]
  },
  {
   "cell_type": "markdown",
   "id": "3080ff47-9fe8-4e93-88e1-ae86883c2b7b",
   "metadata": {},
   "source": [
    "# Sinusoid Dataset"
   ]
  },
  {
   "cell_type": "code",
   "execution_count": null,
   "id": "7fd29d1a-eb89-454b-81db-a21cad6d173c",
   "metadata": {},
   "outputs": [],
   "source": [
    "train_dir = 'data/Sinusoids/training_data/'\n",
    "\n",
    "train_dataset, val_dataset = create_tf_datasets(\n",
    "    train_dir, \n",
    "    percent_val=0.2, \n",
    "    patch_shape=(64, 64, 64), \n",
    "    patch_step=64,\n",
    "    random_state = 42\n",
    ")"
   ]
  },
  {
   "cell_type": "code",
   "execution_count": null,
   "id": "3e311020-095a-48fa-96d5-efa4607b4d17",
   "metadata": {},
   "outputs": [],
   "source": [
    "with strategy.scope():\n",
    "    train_model(\n",
    "        train_dataset = train_dataset, \n",
    "        val_dataset = val_dataset, \n",
    "        model = UNet3D().build_model(), \n",
    "        optimizer = 'adam', \n",
    "        loss = 'binary_crossentropy',\n",
    "        metrics=['accuracy', 'precision', 'recall'],\n",
    "        epochs = 50,\n",
    "        batch_size = 16, \n",
    "        filename=\"sinusoids_unet3d.keras\",\n",
    "        model_name=\"sinusoids_unet3d\"\n",
    "    )"
   ]
  },
  {
   "cell_type": "code",
   "execution_count": null,
   "id": "92ddba42-8ccd-4084-86cf-7155dd10f76d",
   "metadata": {},
   "outputs": [],
   "source": [
    "with strategy.scope():\n",
    "    train_model(\n",
    "        train_dataset = train_dataset, \n",
    "        val_dataset = val_dataset, \n",
    "        model = AttentionUNet3D().build_model(), \n",
    "        optimizer = 'adam',\n",
    "        loss = 'binary_crossentropy',\n",
    "        metrics=['accuracy', 'precision', 'recall'],\n",
    "        epochs = 50,\n",
    "        batch_size = 16,\n",
    "        filename=\"sinusoids_attentionunet3d.keras\",\n",
    "        model_name=\"sinusoids_attentionunet3d\"\n",
    "    )"
   ]
  },
  {
   "cell_type": "markdown",
   "id": "1d3d8d5b-aece-4e73-8d61-e805bad3e81c",
   "metadata": {},
   "source": [
    "# Sinusoids Augmented Dataset"
   ]
  },
  {
   "cell_type": "code",
   "execution_count": null,
   "id": "0fecf314-fa8e-4abb-a3f2-86517d6b3d08",
   "metadata": {},
   "outputs": [],
   "source": [
    "train_dir = 'data/Sinusoids/training_data_augm/'\n",
    "\n",
    "train_dataset, val_dataset = create_tf_datasets(\n",
    "    train_dir, \n",
    "    percent_val=0.2, \n",
    "    patch_shape=(64, 64, 64), \n",
    "    patch_step=64,\n",
    "    random_state = 42\n",
    ")"
   ]
  },
  {
   "cell_type": "code",
   "execution_count": null,
   "id": "dea1ed69-a72d-4658-bff9-c41482fb0972",
   "metadata": {},
   "outputs": [],
   "source": [
    "with strategy.scope():\n",
    "    train_model(\n",
    "        train_dataset = train_dataset, \n",
    "        val_dataset = val_dataset, \n",
    "        model = UNet3D().build_model(), \n",
    "        optimizer = 'adam', \n",
    "        loss = 'binary_crossentropy',\n",
    "        metrics=['accuracy', 'precision', 'recall'],\n",
    "        epochs = 50,\n",
    "        batch_size = 16, \n",
    "        filename=\"sinusoids_augmented_unet3d.keras\",\n",
    "        model_name=\"sinusoids_augmented_unet3d\"\n",
    "    )"
   ]
  },
  {
   "cell_type": "code",
   "execution_count": null,
   "id": "e31a3e26-8e73-4c34-856f-9168232be327",
   "metadata": {},
   "outputs": [],
   "source": [
    "with strategy.scope():\n",
    "    train_model(\n",
    "        train_dataset = train_dataset, \n",
    "        val_dataset = val_dataset, \n",
    "        model = AttentionUNet3D().build_model(), \n",
    "        optimizer = 'adam',\n",
    "        loss = 'binary_crossentropy',\n",
    "        metrics=['accuracy', 'precision', 'recall'],\n",
    "        epochs = 50,\n",
    "        batch_size = 16,\n",
    "        filename=\"sinusoids_augmented_attentionunet3d.keras\",\n",
    "        model_name=\"sinusoids_augmented_attentionunet3d\"\n",
    "    )"
   ]
  },
  {
   "cell_type": "code",
   "execution_count": null,
   "id": "4d384e4a-e1a1-459a-ad94-3ed649f61e20",
   "metadata": {},
   "outputs": [],
   "source": []
  },
  {
   "cell_type": "code",
   "execution_count": null,
   "id": "e6ceda1e-f6aa-488c-8cc1-8f9a875d3d4d",
   "metadata": {},
   "outputs": [],
   "source": []
  }
 ],
 "metadata": {
  "kernelspec": {
   "display_name": "Python 3 (ipykernel)",
   "language": "python",
   "name": "python3"
  },
  "language_info": {
   "codemirror_mode": {
    "name": "ipython",
    "version": 3
   },
   "file_extension": ".py",
   "mimetype": "text/x-python",
   "name": "python",
   "nbconvert_exporter": "python",
   "pygments_lexer": "ipython3",
   "version": "3.9.19"
  }
 },
 "nbformat": 4,
 "nbformat_minor": 5
}
