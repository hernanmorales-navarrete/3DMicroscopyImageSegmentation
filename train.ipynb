{
 "cells": [
  {
   "cell_type": "code",
   "execution_count": null,
   "id": "15971a2a-605c-47de-8037-52141e545d48",
   "metadata": {},
   "outputs": [],
   "source": [
    "import tensorflow as tf\n",
    "\n",
    "gpus = tf.config.experimental.list_physical_devices('GPU')\n",
    "if gpus:\n",
    "    try:\n",
    "        for gpu in gpus:\n",
    "            tf.config.experimental.set_memory_growth(gpu, True)\n",
    "    except RuntimeError as e:\n",
    "        print(e)\n",
    "strategy = tf.distribute.MirroredStrategy()"
   ]
  },
  {
   "cell_type": "code",
   "execution_count": null,
   "id": "c39ac49c-66ca-419d-948f-2231bd0e57ad",
   "metadata": {},
   "outputs": [],
   "source": [
    "from data_loader.create_dataset import create_tf_datasets\n",
    "\n",
    "from models.attention_unet import AttentionUNet3D\n",
    "from models.unet import UNet3D\n",
    "\n",
    "from trainer.train import train_model\n",
    "\n",
    "import numpy as np\n"
   ]
  },
  {
   "cell_type": "code",
   "execution_count": null,
   "id": "3e136d59-47df-4bcb-bae5-4a7333ffa082",
   "metadata": {},
   "outputs": [],
   "source": [
    "train_dir = 'data/ImageSegmentation/BC/training_data'\n",
    "\n",
    "train_dataset, val_dataset = create_tf_datasets(\n",
    "    train_dir, \n",
    "    percent_val=0.2, \n",
    "    patch_shape=(64, 64, 64), \n",
    "    patch_step=32,\n",
    "    random_state = 42\n",
    ")"
   ]
  },
  {
   "cell_type": "code",
   "execution_count": null,
   "id": "c7d5ac8b-3e51-4f22-bc4a-7937cdd353a0",
   "metadata": {},
   "outputs": [],
   "source": [
    "with strategy.scope():\n",
    "    train_model(\n",
    "        train_dataset = train_dataset, \n",
    "        val_dataset = val_dataset, \n",
    "        model = UNet3D().build_model(), \n",
    "        optimizer = 'adam', \n",
    "        loss = 'binary_crossentropy',\n",
    "        metrics=['accuracy', 'precision', 'recall'],\n",
    "        epochs = 1,\n",
    "        batch_size = 16, \n",
    "        filename=\"unet3d.keras\"\n",
    "    )"
   ]
  },
  {
   "cell_type": "code",
   "execution_count": null,
   "id": "a7db4fba-df59-40ea-b91f-d5848d270de1",
   "metadata": {},
   "outputs": [],
   "source": [
    "with strategy.scope():\n",
    "    train_model(\n",
    "        train_dataset = train_dataset, \n",
    "        val_dataset = val_dataset, \n",
    "        model = AttentionUNet3D().build_model(), \n",
    "        optimizer = 'adam',\n",
    "        loss = 'binary_crossentropy',\n",
    "        metrics=['accuracy', 'precision', 'recall'],\n",
    "        epochs = 1,\n",
    "        batch_size = 16,\n",
    "        filename=\"unet3d.keras\"\n",
    "    )"
   ]
  },
  {
   "cell_type": "code",
   "execution_count": null,
   "id": "d8712f47-c66d-4cb6-8c3f-356cec6875fe",
   "metadata": {},
   "outputs": [],
   "source": []
  }
 ],
 "metadata": {
  "kernelspec": {
   "display_name": "Python 3 (ipykernel)",
   "language": "python",
   "name": "python3"
  },
  "language_info": {
   "codemirror_mode": {
    "name": "ipython",
    "version": 3
   },
   "file_extension": ".py",
   "mimetype": "text/x-python",
   "name": "python",
   "nbconvert_exporter": "python",
   "pygments_lexer": "ipython3",
   "version": "3.9.19"
  }
 },
 "nbformat": 4,
 "nbformat_minor": 5
}
