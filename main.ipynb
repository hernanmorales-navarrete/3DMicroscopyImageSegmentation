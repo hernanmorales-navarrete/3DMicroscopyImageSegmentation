{
 "cells": [
  {
   "cell_type": "code",
   "execution_count": 1,
   "id": "15971a2a-605c-47de-8037-52141e545d48",
   "metadata": {},
   "outputs": [
    {
     "name": "stderr",
     "output_type": "stream",
     "text": [
      "2024-10-25 04:30:57.595145: E external/local_xla/xla/stream_executor/cuda/cuda_fft.cc:479] Unable to register cuFFT factory: Attempting to register factory for plugin cuFFT when one has already been registered\n",
      "2024-10-25 04:30:57.618449: E external/local_xla/xla/stream_executor/cuda/cuda_dnn.cc:10575] Unable to register cuDNN factory: Attempting to register factory for plugin cuDNN when one has already been registered\n",
      "2024-10-25 04:30:57.618521: E external/local_xla/xla/stream_executor/cuda/cuda_blas.cc:1442] Unable to register cuBLAS factory: Attempting to register factory for plugin cuBLAS when one has already been registered\n",
      "2024-10-25 04:30:57.632476: I tensorflow/core/platform/cpu_feature_guard.cc:210] This TensorFlow binary is optimized to use available CPU instructions in performance-critical operations.\n",
      "To enable the following instructions: AVX2 FMA, in other operations, rebuild TensorFlow with the appropriate compiler flags.\n",
      "2024-10-25 04:30:58.720660: W tensorflow/compiler/tf2tensorrt/utils/py_utils.cc:38] TF-TRT Warning: Could not find TensorRT\n"
     ]
    },
    {
     "name": "stdout",
     "output_type": "stream",
     "text": [
      "[PhysicalDevice(name='/physical_device:GPU:0', device_type='GPU'), PhysicalDevice(name='/physical_device:GPU:1', device_type='GPU')]\n",
      "INFO:tensorflow:Using MirroredStrategy with devices ('/job:localhost/replica:0/task:0/device:GPU:0', '/job:localhost/replica:0/task:0/device:GPU:1')\n"
     ]
    },
    {
     "name": "stderr",
     "output_type": "stream",
     "text": [
      "2024-10-25 04:31:01.135431: I tensorflow/core/common_runtime/gpu/gpu_device.cc:1928] Created device /job:localhost/replica:0/task:0/device:GPU:0 with 38380 MB memory:  -> device: 0, name: NVIDIA A100-SXM4-40GB, pci bus id: 0000:47:00.0, compute capability: 8.0\n",
      "2024-10-25 04:31:01.137047: I tensorflow/core/common_runtime/gpu/gpu_device.cc:1928] Created device /job:localhost/replica:0/task:0/device:GPU:1 with 38380 MB memory:  -> device: 1, name: NVIDIA A100-SXM4-40GB, pci bus id: 0000:4e:00.0, compute capability: 8.0\n"
     ]
    }
   ],
   "source": [
    "import tensorflow as tf\n",
    "\n",
    "gpus = tf.config.experimental.list_physical_devices('GPU')\n",
    "print(gpus)\n",
    "if gpus:\n",
    "    try:\n",
    "        for gpu in gpus:\n",
    "            tf.config.experimental.set_memory_growth(gpu, True)\n",
    "    except RuntimeError as e:\n",
    "        print(e)\n",
    "strategy = tf.distribute.MirroredStrategy()"
   ]
  },
  {
   "cell_type": "code",
   "execution_count": 2,
   "id": "c39ac49c-66ca-419d-948f-2231bd0e57ad",
   "metadata": {},
   "outputs": [],
   "source": [
    "from data_loader.create_dataset import create_tf_datasets\n",
    "\n",
    "from models.attention_unet import AttentionUNet3D\n",
    "from models.unet import UNet3D\n",
    "\n",
    "import numpy as np\n"
   ]
  },
  {
   "cell_type": "code",
   "execution_count": 3,
   "id": "3e136d59-47df-4bcb-bae5-4a7333ffa082",
   "metadata": {},
   "outputs": [
    {
     "name": "stdout",
     "output_type": "stream",
     "text": [
      "ImageSegmentation/BC/training_data/images/BC_Ch1.tif ImageSegmentation/BC/training_data/masks/BC_Ch1.tif\n",
      "ImageSegmentation/BC/training_data/images/BC_G1.tif ImageSegmentation/BC/training_data/masks/BC_G1.tif\n",
      "ImageSegmentation/BC/test_data/images/BC_Ch2.tif ImageSegmentation/BC/test_data/masks/BC_Ch2.tif\n",
      "ImageSegmentation/BC/test_data/images/BC_G2.tif ImageSegmentation/BC/test_data/masks/BC_G2.tif\n"
     ]
    }
   ],
   "source": [
    "train_dir = 'ImageSegmentation/BC/training_data'\n",
    "test_dir = 'ImageSegmentation/BC/test_data'\n",
    "\n",
    "train_dataset, val_dataset, test_dataset = create_tf_datasets(\n",
    "    train_dir, \n",
    "    test_dir, \n",
    "    percent_val=0.2, \n",
    "    patch_shape=(64, 64, 64), \n",
    "    patch_step=32\n",
    ")"
   ]
  },
  {
   "cell_type": "code",
   "execution_count": null,
   "id": "b829887e-1889-4f5f-86cc-17a631947975",
   "metadata": {},
   "outputs": [
    {
     "name": "stdout",
     "output_type": "stream",
     "text": [
      "Epoch 1/50\n"
     ]
    },
    {
     "name": "stderr",
     "output_type": "stream",
     "text": [
      "2024-10-25 04:32:07.855620: I external/local_xla/xla/stream_executor/cuda/cuda_dnn.cc:465] Loaded cuDNN version 8907\n",
      "2024-10-25 04:32:07.863899: I external/local_xla/xla/stream_executor/cuda/cuda_dnn.cc:465] Loaded cuDNN version 8907\n",
      "2024-10-25 04:32:09.095799: W external/local_tsl/tsl/framework/bfc_allocator.cc:296] Allocator (GPU_0_bfc) ran out of memory trying to allocate 6.98GiB with freed_by_count=0. The caller indicates that this is not a failure, but this may mean that there could be performance gains if more memory were available.\n"
     ]
    },
    {
     "name": "stdout",
     "output_type": "stream",
     "text": [
      "\u001b[1m 439/1556\u001b[0m \u001b[32m━━━━━\u001b[0m\u001b[37m━━━━━━━━━━━━━━━\u001b[0m \u001b[1m2:41\u001b[0m 144ms/step - loss: 0.7661"
     ]
    }
   ],
   "source": [
    "x_train = np.array(train_dataset[0])\n",
    "y_train = np.array(train_dataset[1])\n",
    "\n",
    "x_val = np.array(val_dataset[0])\n",
    "y_val = np.array(val_dataset[1])\n",
    "\n",
    "with strategy.scope():\n",
    "    unet = UNet3D().build_model()\n",
    "    \n",
    "    unet.compile(\n",
    "        'adam',\n",
    "        'dice'\n",
    "    )\n",
    "\n",
    "    unet.fit(\n",
    "        x = x_train,\n",
    "        y = y_train, \n",
    "        batch_size=8,\n",
    "        epochs=50,\n",
    "        validation_data = (x_val, y_val),\n",
    "    )"
   ]
  },
  {
   "cell_type": "code",
   "execution_count": null,
   "id": "fe490f0e-1876-4acd-b4a1-bc6bf23e9faa",
   "metadata": {},
   "outputs": [],
   "source": [
    "with strategy.scope():\n",
    "    aunet = AttentionUNet3D().build_model()\n",
    "    \n",
    "    aunet.compile(\n",
    "        'adam',\n",
    "        'mse'\n",
    "    )\n",
    "\n",
    "    aunet.fit(\n",
    "        x = x_train,\n",
    "        y = y_train, \n",
    "        batch_size=8,\n",
    "        epochs=50,\n",
    "        validation_data = (x_val, y_val),\n",
    "    )"
   ]
  },
  {
   "cell_type": "code",
   "execution_count": null,
   "id": "c923149a-4b37-4ff8-bdb2-f2221d8166a0",
   "metadata": {},
   "outputs": [],
   "source": []
  }
 ],
 "metadata": {
  "kernelspec": {
   "display_name": "Python 3 (ipykernel)",
   "language": "python",
   "name": "python3"
  },
  "language_info": {
   "codemirror_mode": {
    "name": "ipython",
    "version": 3
   },
   "file_extension": ".py",
   "mimetype": "text/x-python",
   "name": "python",
   "nbconvert_exporter": "python",
   "pygments_lexer": "ipython3",
   "version": "3.9.19"
  }
 },
 "nbformat": 4,
 "nbformat_minor": 5
}
